{
  "nbformat": 4,
  "nbformat_minor": 0,
  "metadata": {
    "colab": {
      "name": "p1.ipynb",
      "provenance": [],
      "collapsed_sections": []
    },
    "kernelspec": {
      "name": "python3",
      "display_name": "Python 3"
    }
  },
  "cells": [
    {
      "cell_type": "markdown",
      "metadata": {
        "id": "jF6GNkGEqRe3"
      },
      "source": [
        "# P1 - Statistics \n",
        "\n",
        "**Due: Fri. 10/2/20, 11:59pm**\n",
        "\n",
        "This project is intended to give you experience with descriptive and inferential statistics. \n",
        "\n",
        "\n",
        "\n"
      ]
    },
    {
      "cell_type": "code",
      "metadata": {
        "id": "WNM1QRdazqgy"
      },
      "source": [
        "import pandas as pd\n",
        "import numpy as np\n",
        "import matplotlib.pyplot as plt\n",
        "import math\n",
        "%matplotlib inline \n",
        "import seaborn as sns\n",
        "import statistics as stats"
      ],
      "execution_count": 147,
      "outputs": []
    },
    {
      "cell_type": "markdown",
      "metadata": {
        "id": "btppYjmdqu7s"
      },
      "source": [
        "## Part 1 - Descriptive Statistics \n",
        "\n",
        "This problem will use data from the Department of Transportation's Transit Statistics. The data was collected from:  \n",
        "https://www.transtats.bts.gov/DL_SelectFields.asp?Table_ID=236\n",
        "Information on the variables can be found there in the Glossary.  You will use the file `flights-jan2019-ORD-MSP.csv`, includes flight information for all flights arriving or leaving Chicago O'hare (ORD) and Minneapolis (MSP) airports in January 2019.   \n",
        "\n",
        "Information about airports is also available in the file `airports.dat`.  This data was collected from [Open Flights](https://openflights.org/data.html).  \n",
        "\n",
        "Disclaimer: There are additional functions to help deal with time data that is not presented or expected in the problems asked below."
      ]
    },
    {
      "cell_type": "code",
      "metadata": {
        "id": "ONWu7W3cqQ1N",
        "outputId": "664e6acd-38e6-4b7d-c7fc-06178e4b40e7",
        "colab": {
          "base_uri": "https://localhost:8080/",
          "height": 206
        }
      },
      "source": [
        "flights = pd.read_csv(\"data/flights-jan2019-ORD-MSP.csv\", \n",
        "                      dtype = {'CRS_ARR_TIME': 'f8', 'CRS_DEP_TIME': 'f8'})\n",
        "flights.head()"
      ],
      "execution_count": 148,
      "outputs": [
        {
          "output_type": "execute_result",
          "data": {
            "text/html": [
              "<div>\n",
              "<style scoped>\n",
              "    .dataframe tbody tr th:only-of-type {\n",
              "        vertical-align: middle;\n",
              "    }\n",
              "\n",
              "    .dataframe tbody tr th {\n",
              "        vertical-align: top;\n",
              "    }\n",
              "\n",
              "    .dataframe thead th {\n",
              "        text-align: right;\n",
              "    }\n",
              "</style>\n",
              "<table border=\"1\" class=\"dataframe\">\n",
              "  <thead>\n",
              "    <tr style=\"text-align: right;\">\n",
              "      <th></th>\n",
              "      <th>YEAR</th>\n",
              "      <th>MONTH</th>\n",
              "      <th>DAY_OF_MONTH</th>\n",
              "      <th>FL_DATE</th>\n",
              "      <th>OP_UNIQUE_CARRIER</th>\n",
              "      <th>TAIL_NUM</th>\n",
              "      <th>OP_CARRIER_FL_NUM</th>\n",
              "      <th>ORIGIN</th>\n",
              "      <th>DEST</th>\n",
              "      <th>CRS_DEP_TIME</th>\n",
              "      <th>DEP_TIME</th>\n",
              "      <th>CRS_ARR_TIME</th>\n",
              "      <th>ARR_TIME</th>\n",
              "    </tr>\n",
              "  </thead>\n",
              "  <tbody>\n",
              "    <tr>\n",
              "      <th>0</th>\n",
              "      <td>2019</td>\n",
              "      <td>1</td>\n",
              "      <td>10</td>\n",
              "      <td>2019-01-10</td>\n",
              "      <td>OO</td>\n",
              "      <td>N938SW</td>\n",
              "      <td>5011</td>\n",
              "      <td>ORD</td>\n",
              "      <td>FWA</td>\n",
              "      <td>1605.0</td>\n",
              "      <td>1629.0</td>\n",
              "      <td>1816.0</td>\n",
              "      <td>1827.0</td>\n",
              "    </tr>\n",
              "    <tr>\n",
              "      <th>1</th>\n",
              "      <td>2019</td>\n",
              "      <td>1</td>\n",
              "      <td>10</td>\n",
              "      <td>2019-01-10</td>\n",
              "      <td>OO</td>\n",
              "      <td>N908SW</td>\n",
              "      <td>5012</td>\n",
              "      <td>ORD</td>\n",
              "      <td>MBS</td>\n",
              "      <td>1400.0</td>\n",
              "      <td>1403.0</td>\n",
              "      <td>1616.0</td>\n",
              "      <td>1626.0</td>\n",
              "    </tr>\n",
              "    <tr>\n",
              "      <th>2</th>\n",
              "      <td>2019</td>\n",
              "      <td>1</td>\n",
              "      <td>10</td>\n",
              "      <td>2019-01-10</td>\n",
              "      <td>OO</td>\n",
              "      <td>N980SW</td>\n",
              "      <td>5014</td>\n",
              "      <td>ORD</td>\n",
              "      <td>LWB</td>\n",
              "      <td>1415.0</td>\n",
              "      <td>1405.0</td>\n",
              "      <td>1720.0</td>\n",
              "      <td>1703.0</td>\n",
              "    </tr>\n",
              "    <tr>\n",
              "      <th>3</th>\n",
              "      <td>2019</td>\n",
              "      <td>1</td>\n",
              "      <td>10</td>\n",
              "      <td>2019-01-10</td>\n",
              "      <td>OO</td>\n",
              "      <td>N701BR</td>\n",
              "      <td>5023</td>\n",
              "      <td>ORD</td>\n",
              "      <td>SLN</td>\n",
              "      <td>1007.0</td>\n",
              "      <td>1007.0</td>\n",
              "      <td>1213.0</td>\n",
              "      <td>1234.0</td>\n",
              "    </tr>\n",
              "    <tr>\n",
              "      <th>4</th>\n",
              "      <td>2019</td>\n",
              "      <td>1</td>\n",
              "      <td>10</td>\n",
              "      <td>2019-01-10</td>\n",
              "      <td>OO</td>\n",
              "      <td>N471CA</td>\n",
              "      <td>5030</td>\n",
              "      <td>ORD</td>\n",
              "      <td>SPI</td>\n",
              "      <td>1400.0</td>\n",
              "      <td>1349.0</td>\n",
              "      <td>1504.0</td>\n",
              "      <td>1442.0</td>\n",
              "    </tr>\n",
              "  </tbody>\n",
              "</table>\n",
              "</div>"
            ],
            "text/plain": [
              "   YEAR  MONTH  DAY_OF_MONTH  ... DEP_TIME CRS_ARR_TIME ARR_TIME\n",
              "0  2019      1            10  ...   1629.0       1816.0   1827.0\n",
              "1  2019      1            10  ...   1403.0       1616.0   1626.0\n",
              "2  2019      1            10  ...   1405.0       1720.0   1703.0\n",
              "3  2019      1            10  ...   1007.0       1213.0   1234.0\n",
              "4  2019      1            10  ...   1349.0       1504.0   1442.0\n",
              "\n",
              "[5 rows x 13 columns]"
            ]
          },
          "metadata": {
            "tags": []
          },
          "execution_count": 148
        }
      ]
    },
    {
      "cell_type": "code",
      "metadata": {
        "id": "_i1L6ufdqKfV",
        "outputId": "8fbcc6cb-c8ab-4fcc-b55e-b44acd2f7cdd",
        "colab": {
          "base_uri": "https://localhost:8080/",
          "height": 206
        }
      },
      "source": [
        "airports_cols = [\n",
        "    'openflights_id',\n",
        "    'name',\n",
        "    'city',\n",
        "    'country',\n",
        "    'iata',\n",
        "    'icao',\n",
        "    'latitude',\n",
        "    'longitude',\n",
        "    'altitude',\n",
        "    'tz',\n",
        "    'dst',\n",
        "    'tz_olson',\n",
        "    'type',\n",
        "    'airport_dsource'\n",
        "]\n",
        "\n",
        "airports = pd.read_csv(\"data/airports.dat\", names=airports_cols)\n",
        "airports.head()"
      ],
      "execution_count": 149,
      "outputs": [
        {
          "output_type": "execute_result",
          "data": {
            "text/html": [
              "<div>\n",
              "<style scoped>\n",
              "    .dataframe tbody tr th:only-of-type {\n",
              "        vertical-align: middle;\n",
              "    }\n",
              "\n",
              "    .dataframe tbody tr th {\n",
              "        vertical-align: top;\n",
              "    }\n",
              "\n",
              "    .dataframe thead th {\n",
              "        text-align: right;\n",
              "    }\n",
              "</style>\n",
              "<table border=\"1\" class=\"dataframe\">\n",
              "  <thead>\n",
              "    <tr style=\"text-align: right;\">\n",
              "      <th></th>\n",
              "      <th>openflights_id</th>\n",
              "      <th>name</th>\n",
              "      <th>city</th>\n",
              "      <th>country</th>\n",
              "      <th>iata</th>\n",
              "      <th>icao</th>\n",
              "      <th>latitude</th>\n",
              "      <th>longitude</th>\n",
              "      <th>altitude</th>\n",
              "      <th>tz</th>\n",
              "      <th>dst</th>\n",
              "      <th>tz_olson</th>\n",
              "      <th>type</th>\n",
              "      <th>airport_dsource</th>\n",
              "    </tr>\n",
              "  </thead>\n",
              "  <tbody>\n",
              "    <tr>\n",
              "      <th>0</th>\n",
              "      <td>1</td>\n",
              "      <td>Goroka</td>\n",
              "      <td>Goroka</td>\n",
              "      <td>Papua New Guinea</td>\n",
              "      <td>GKA</td>\n",
              "      <td>AYGA</td>\n",
              "      <td>-6.081689</td>\n",
              "      <td>145.391881</td>\n",
              "      <td>5282</td>\n",
              "      <td>10.0</td>\n",
              "      <td>U</td>\n",
              "      <td>Pacific/Port_Moresby</td>\n",
              "      <td>NaN</td>\n",
              "      <td>NaN</td>\n",
              "    </tr>\n",
              "    <tr>\n",
              "      <th>1</th>\n",
              "      <td>2</td>\n",
              "      <td>Madang</td>\n",
              "      <td>Madang</td>\n",
              "      <td>Papua New Guinea</td>\n",
              "      <td>MAG</td>\n",
              "      <td>AYMD</td>\n",
              "      <td>-5.207083</td>\n",
              "      <td>145.788700</td>\n",
              "      <td>20</td>\n",
              "      <td>10.0</td>\n",
              "      <td>U</td>\n",
              "      <td>Pacific/Port_Moresby</td>\n",
              "      <td>NaN</td>\n",
              "      <td>NaN</td>\n",
              "    </tr>\n",
              "    <tr>\n",
              "      <th>2</th>\n",
              "      <td>3</td>\n",
              "      <td>Mount Hagen</td>\n",
              "      <td>Mount Hagen</td>\n",
              "      <td>Papua New Guinea</td>\n",
              "      <td>HGU</td>\n",
              "      <td>AYMH</td>\n",
              "      <td>-5.826789</td>\n",
              "      <td>144.295861</td>\n",
              "      <td>5388</td>\n",
              "      <td>10.0</td>\n",
              "      <td>U</td>\n",
              "      <td>Pacific/Port_Moresby</td>\n",
              "      <td>NaN</td>\n",
              "      <td>NaN</td>\n",
              "    </tr>\n",
              "    <tr>\n",
              "      <th>3</th>\n",
              "      <td>4</td>\n",
              "      <td>Nadzab</td>\n",
              "      <td>Nadzab</td>\n",
              "      <td>Papua New Guinea</td>\n",
              "      <td>LAE</td>\n",
              "      <td>AYNZ</td>\n",
              "      <td>-6.569828</td>\n",
              "      <td>146.726242</td>\n",
              "      <td>239</td>\n",
              "      <td>10.0</td>\n",
              "      <td>U</td>\n",
              "      <td>Pacific/Port_Moresby</td>\n",
              "      <td>NaN</td>\n",
              "      <td>NaN</td>\n",
              "    </tr>\n",
              "    <tr>\n",
              "      <th>4</th>\n",
              "      <td>5</td>\n",
              "      <td>Port Moresby Jacksons Intl</td>\n",
              "      <td>Port Moresby</td>\n",
              "      <td>Papua New Guinea</td>\n",
              "      <td>POM</td>\n",
              "      <td>AYPY</td>\n",
              "      <td>-9.443383</td>\n",
              "      <td>147.220050</td>\n",
              "      <td>146</td>\n",
              "      <td>10.0</td>\n",
              "      <td>U</td>\n",
              "      <td>Pacific/Port_Moresby</td>\n",
              "      <td>NaN</td>\n",
              "      <td>NaN</td>\n",
              "    </tr>\n",
              "  </tbody>\n",
              "</table>\n",
              "</div>"
            ],
            "text/plain": [
              "   openflights_id                        name  ... type airport_dsource\n",
              "0               1                      Goroka  ...  NaN             NaN\n",
              "1               2                      Madang  ...  NaN             NaN\n",
              "2               3                 Mount Hagen  ...  NaN             NaN\n",
              "3               4                      Nadzab  ...  NaN             NaN\n",
              "4               5  Port Moresby Jacksons Intl  ...  NaN             NaN\n",
              "\n",
              "[5 rows x 14 columns]"
            ]
          },
          "metadata": {
            "tags": []
          },
          "execution_count": 149
        }
      ]
    },
    {
      "cell_type": "markdown",
      "metadata": {
        "id": "k5mp8HdarBcY"
      },
      "source": [
        "### Q1. (10 pts) - Extract Time Information\n",
        "\n",
        "Both the departure and arrival were read in a floating-point numbers. Write two functions, `extract_hour` and `extract_mins` that converts military time to hours and minutes, respectively. Hint: You may want to use modular arithmetic and integer division.\n"
      ]
    },
    {
      "cell_type": "code",
      "metadata": {
        "id": "cBcrJ9k0rryU"
      },
      "source": [
        "def extract_hour(time):\n",
        "    \"\"\"\n",
        "    Extract hour information from the time given in military format time.\n",
        "\n",
        "    Input:\n",
        "        time (float64): array of time given in military format.  \n",
        "          Takes on values in 0.0-2359.0 due to float64 representation.\n",
        " \n",
        "    Returns:\n",
        "        array (float64): array of input dimension with hour information.  \n",
        "          Should only take on integer values in 0-23\n",
        "    \n",
        "    Example: 1:03pm is will resulting 01\n",
        "    >>> extract_hour(1303.0)\n",
        "    01.0\n",
        "    \"\"\"\n",
        "    # YOUR CODE HERE\n",
        "    adjusted_time = (time/100)\n",
        "    result = (adjusted_time.apply(math.floor))*1.0\n",
        "    return result"
      ],
      "execution_count": 165,
      "outputs": []
    },
    {
      "cell_type": "code",
      "metadata": {
        "id": "GHKDuErrsJsL"
      },
      "source": [
        "def extract_mins(time):\n",
        "    \"\"\"\n",
        "    Extract minute information from the time given in military format time.\n",
        "\n",
        "    Input:\n",
        "        time (float64): array of time given in military format.  \n",
        "          Takes on values in 0.0-2359.0 due to float64 representation.\n",
        "    \n",
        "    Returns:\n",
        "        array (float64): array of input dimension with hour information.  \n",
        "          Should only take on integer values in 0-59\n",
        "    \n",
        "     Example: 1:03pm is will resulting 03\n",
        "    >>> extract_mins(1303.0)\n",
        "    03.0\n",
        "    \n",
        "    \"\"\"\n",
        "    # YOUR CODE HERE\n",
        "    # Getting hours\n",
        "    hours_dot_minute = time/100\n",
        "    hours = hours_dot_minute.apply(math.floor)\n",
        "    result = (hours_dot_minute - hours)*100\n",
        "    return result"
      ],
      "execution_count": 166,
      "outputs": []
    },
    {
      "cell_type": "markdown",
      "metadata": {
        "id": "TlyXh1o5sTRV"
      },
      "source": [
        "### Q2. (10 pts) - Filter Delayed Flights\n",
        "\n",
        "Using your two functions above, filter the `flights` data for flights that departed 15 or more minutes later than scheduled.  You do not need to worry about flights that were delayed to the next day for this question.\n",
        "\n",
        "To help answer this question, implement the following helper functions: `convert_to_minofday` and `calc_time_diff`."
      ]
    },
    {
      "cell_type": "code",
      "metadata": {
        "id": "x9NTCKbosYgo",
        "outputId": "d797ddf9-67be-4f81-d6ac-1298be16f6d7",
        "colab": {
          "base_uri": "https://localhost:8080/",
          "height": 73
        }
      },
      "source": [
        "def convert_to_minofday(time):\n",
        "    \"\"\"\n",
        "    Converts military time (Hour and Minute) to minute of day.\n",
        "    \n",
        "    Input:\n",
        "       time (float64): array of time given in military format.  \n",
        "          Takes on values in 0.0-2359.0 due to float64 representation.\n",
        "    \n",
        "    Returns:\n",
        "        array (float64): array of input dimension with minute of day\n",
        "    \n",
        "     \n",
        "    Example: 1:03pm is converted to 783.0\n",
        "    >>> convert_to_minofday(1303.0)\n",
        "    783.0\n",
        "    \"\"\"\n",
        "    # YOUR CODE HERE\n",
        "    hours = extract_hour(time)\n",
        "    hours_in_minutes = hours * 60\n",
        "    minutes = extract_mins(time)\n",
        "    min_of_day = hours_in_minutes + minutes\n",
        "    return min_of_day\n",
        "\n",
        "\n",
        "def calc_time_diff(x, y):\n",
        "    \"\"\" \n",
        "    Calculate the time difference between Y and X \n",
        "\n",
        "    Input:\n",
        "        x (float64): array of scheduled time given in military format.  \n",
        "          Takes on values in 0.0-2359.0 due to float64 representation.\n",
        "        y (float64): array of same dimensions giving actual time\n",
        "        \n",
        "    Returns:\n",
        "        array (float64): array of input dimension with delay time\n",
        "        \n",
        "        \n",
        "    Example: 1:03pm is converted to 783.0\n",
        "             1.05pm is converted to 785.0\n",
        "    >>> calc_time_diff(1303.0,1305.0)\n",
        "    3\n",
        "    \"\"\"  \n",
        "    # YOUR CODE HERE\n",
        "    result = convert_to_minofday(y)-convert_to_minofday(x)\n",
        "    return result\n",
        "\n",
        "# calc_time_diff(pd.Series([1303.0, 1955.0]), pd.Series([1305.0, 2000.0]))\n"
      ],
      "execution_count": 152,
      "outputs": [
        {
          "output_type": "execute_result",
          "data": {
            "text/plain": [
              "0    2.0\n",
              "1    5.0\n",
              "dtype: float64"
            ]
          },
          "metadata": {
            "tags": []
          },
          "execution_count": 152
        }
      ]
    },
    {
      "cell_type": "code",
      "metadata": {
        "id": "KaO4LOq2tHs1",
        "outputId": "6f3f46ef-89db-4f29-bf35-0273e122b837",
        "colab": {
          "base_uri": "https://localhost:8080/",
          "height": 36
        }
      },
      "source": [
        "\"\"\"\n",
        "Using your functions above, filter the flights data for flights \n",
        "that departed 15 or more minutes later than scheduled. You do not \n",
        "need to worry about flights that were delayed to the next day for this question.\n",
        "\n",
        "\"\"\"\n",
        "\n",
        "# YOUR CODE HERE\n",
        "flight_delay = flights['DEP_TIME'] - flights['CRS_DEP_TIME']\n",
        "delayed15 = flights[ flight_delay >= 15 ]\n",
        "delayed15.shape"
      ],
      "execution_count": 167,
      "outputs": [
        {
          "output_type": "execute_result",
          "data": {
            "text/plain": [
              "(12936, 15)"
            ]
          },
          "metadata": {
            "tags": []
          },
          "execution_count": 167
        }
      ]
    },
    {
      "cell_type": "markdown",
      "metadata": {
        "id": "Q9JAd3UBtogS"
      },
      "source": [
        "### Q3. (5 pts) - Top Ten Planes \n",
        "\n",
        "Find the tail number of the top ten planes, measure by number of destinations that plane flew to in January.  You may find `drop_duplicates` and `sort_values` helpful. "
      ]
    },
    {
      "cell_type": "code",
      "metadata": {
        "id": "uygjFWy7uBhe",
        "outputId": "3aca6b67-c5b7-4308-8998-25d69cac75cb",
        "colab": {
          "base_uri": "https://localhost:8080/",
          "height": 240
        }
      },
      "source": [
        "# YOUR CODE HERE\n",
        "top10 = flights[flights['MONTH'] == 1 ].drop_duplicates().groupby('TAIL_NUM').size().sort_values(ascending=False)\n",
        "\n",
        "print(top10.head(10))\n",
        "\n"
      ],
      "execution_count": 168,
      "outputs": [
        {
          "output_type": "stream",
          "text": [
            "TAIL_NUM\n",
            "N905JH    216\n",
            "N939AE    197\n",
            "N909AE    193\n",
            "N902BC    191\n",
            "N615AE    188\n",
            "N680AE    182\n",
            "N688AE    181\n",
            "N908AE    170\n",
            "N923AE    167\n",
            "N933JN    166\n",
            "dtype: int64\n"
          ],
          "name": "stdout"
        }
      ]
    },
    {
      "cell_type": "markdown",
      "metadata": {
        "id": "hCRJRcJcuVV5"
      },
      "source": [
        "### Q4. (5 pts) - Calculate Delays \n",
        "\n",
        "You will now add two new columns to the `flights` DataFrame that will contain the departure delay and arrival delay."
      ]
    },
    {
      "cell_type": "code",
      "metadata": {
        "id": "_VBl6cR7udPW"
      },
      "source": [
        "def calc_time_diff_hinge(x, y):\n",
        "    \"\"\"\n",
        "    Calculate the time difference between Y and X  \n",
        "    If the time diference is < -30 set it to 0 \n",
        "    \n",
        "    Input:\n",
        "        x (float64): array of scheduled time given in military format.  \n",
        "          Takes on values in 0.0-2359.0 due to float64 representation.\n",
        "        y (float64): array of same dimensions giving actual time\n",
        "    \n",
        "    Returns:\n",
        "        array (float64): array of input dimension with delay time\n",
        "    \n",
        "    \"\"\"\n",
        "    # YOUR CODE HERE\n",
        "    data = pd.DataFrame({'x': x, 'y': y})\n",
        "    diff = data['y'] - data['x']\n",
        "\n",
        "    less_than_thirty = diff < -30\n",
        "    diff[less_than_thirty] = 0\n",
        "    return diff\n"
      ],
      "execution_count": 169,
      "outputs": []
    },
    {
      "cell_type": "code",
      "metadata": {
        "id": "4AjpY-9dumye",
        "outputId": "c4cc2439-907a-4f35-e29f-d5f7b26c5473",
        "colab": {
          "base_uri": "https://localhost:8080/",
          "height": 278
        }
      },
      "source": [
        "# YOUR CODE HERE\n",
        "flights['DELAY_DEP'] = calc_time_diff_hinge(flights['CRS_DEP_TIME'], flights['DEP_TIME']) \n",
        "flights['DELAY_ARR'] = calc_time_diff_hinge(flights['CRS_ARR_TIME'], flights['ARR_TIME'])\n",
        "\n",
        "print(flights['DELAY_DEP'].head())\n",
        "print(flights['DELAY_ARR'].head())\n",
        "print(flights['DELAY_DEP'].mean())\n",
        "print(flights['DELAY_ARR'].mean())"
      ],
      "execution_count": 170,
      "outputs": [
        {
          "output_type": "stream",
          "text": [
            "0    24.0\n",
            "1     3.0\n",
            "2   -10.0\n",
            "3     0.0\n",
            "4     0.0\n",
            "Name: DELAY_DEP, dtype: float64\n",
            "0    11.0\n",
            "1    10.0\n",
            "2   -17.0\n",
            "3    21.0\n",
            "4     0.0\n",
            "Name: DELAY_ARR, dtype: float64\n",
            "33.022050059594754\n",
            "37.12285831960461\n"
          ],
          "name": "stdout"
        }
      ]
    },
    {
      "cell_type": "markdown",
      "metadata": {
        "id": "Jolz0fckvNSG"
      },
      "source": [
        "### Q5 (10 pts) - Distribution and Statistics on Flight Delays\n",
        "\n",
        "Plot the distribution of departure delays for all flights leaving ORD.  Also, plot the distribution of departure delays for all flights from leaving MSP.  Make sure to label and make the plots look nice. "
      ]
    },
    {
      "cell_type": "code",
      "metadata": {
        "id": "BscW_4oYvite",
        "outputId": "b268b987-a1cc-457c-a453-c31cd850337b",
        "colab": {
          "base_uri": "https://localhost:8080/",
          "height": 407
        }
      },
      "source": [
        "# YOUR CODE HERE\n",
        "plt.title('Distribution of Flight Delays From ORD')\n",
        "plt.xlabel('Minutes Late')\n",
        "plt.ylabel('Number of Flights')\n",
        "ord_flights = flights[flights['ORIGIN'] == 'ORD']['DELAY_DEP']\n",
        "plt.hist(ord_flights[~np.isnan(ord_flights)], bins=15)"
      ],
      "execution_count": 171,
      "outputs": [
        {
          "output_type": "execute_result",
          "data": {
            "text/plain": [
              "(array([1.9975e+04, 2.4120e+03, 8.7000e+02, 3.5600e+02, 1.8100e+02,\n",
              "        9.1000e+01, 4.8000e+01, 2.9000e+01, 9.0000e+00, 1.2000e+01,\n",
              "        4.0000e+00, 1.0000e+00, 4.0000e+00, 2.0000e+00, 1.0000e+00]),\n",
              " array([ -20. ,   68.4,  156.8,  245.2,  333.6,  422. ,  510.4,  598.8,\n",
              "         687.2,  775.6,  864. ,  952.4, 1040.8, 1129.2, 1217.6, 1306. ]),\n",
              " <a list of 15 Patch objects>)"
            ]
          },
          "metadata": {
            "tags": []
          },
          "execution_count": 171
        },
        {
          "output_type": "display_data",
          "data": {
            "image/png": "[encoded data removed]",
            "text/plain": [
              "<Figure size 432x288 with 1 Axes>"
            ]
          },
          "metadata": {
            "tags": [],
            "needs_background": "light"
          }
        }
      ]
    },
    {
      "cell_type": "code",
      "metadata": {
        "id": "sHczUGhFvpYd",
        "outputId": "d75da9e9-e07a-4f78-ee75-62a53fff80c3",
        "colab": {
          "base_uri": "https://localhost:8080/",
          "height": 388
        }
      },
      "source": [
        "# YOUR CODE HERE\n",
        "plt.title('Distribution of Flight Delays From MSP')\n",
        "plt.xlabel('Minutes Late')\n",
        "plt.ylabel('Number of Flights')\n",
        "msp_flights = flights[flights['ORIGIN'] == 'MSP']['DELAY_DEP']\n",
        "plt.hist(msp_flights[~np.isnan(msp_flights)], bins=15)"
      ],
      "execution_count": 172,
      "outputs": [
        {
          "output_type": "execute_result",
          "data": {
            "text/plain": [
              "(array([1316.,   89.,   37.,   20.,    8.,    3.,    0.,    2.,    2.,\n",
              "           4.,    0.,    0.,    0.,    0.,    2.]),\n",
              " array([ -17.,   76.,  169.,  262.,  355.,  448.,  541.,  634.,  727.,\n",
              "         820.,  913., 1006., 1099., 1192., 1285., 1378.]),\n",
              " <a list of 15 Patch objects>)"
            ]
          },
          "metadata": {
            "tags": []
          },
          "execution_count": 172
        },
        {
          "output_type": "display_data",
          "data": {
            "image/png": "[encoded data removed]",
            "text/plain": [
              "<Figure size 432x288 with 1 Axes>"
            ]
          },
          "metadata": {
            "tags": [],
            "needs_background": "light"
          }
        }
      ]
    },
    {
      "cell_type": "markdown",
      "metadata": {
        "id": "Fkb7kWvGvlNS"
      },
      "source": [
        "Present the mean, standard deviation, and 5-number summary of the arrival delays for ORD and MSP."
      ]
    },
    {
      "cell_type": "code",
      "metadata": {
        "id": "ZBxDDItYvltP",
        "outputId": "9bb79b26-b606-47b1-c20f-a715ad8e9d2b",
        "colab": {
          "base_uri": "https://localhost:8080/",
          "height": 706
        }
      },
      "source": [
        "# YOUR CODE HERE\n",
        "arrDelay_ORD = ord_flights\n",
        "arrDelay_MSP = msp_flights\n",
        "\n",
        "Mean_Ord = stats.mean(arrDelay_ORD[~np.isnan(arrDelay_ORD)]) \n",
        "Std_Ord = np.std(arrDelay_ORD)\n",
        "Summary_Ord = arrDelay_ORD.describe()\n",
        "\n",
        "Mean_Msp = stats.mean(arrDelay_MSP[~np.isnan(arrDelay_MSP)]) \n",
        "Std_Msp = np.std(arrDelay_MSP)\n",
        "Summary_Msp = arrDelay_MSP.describe()\n",
        "\n",
        "\n",
        "\n",
        "\n",
        "\n",
        "### END SOLUTION\n",
        "\n",
        "print(\"Arrival Delay for flights arriving in ORD\")\n",
        "print(arrDelay_ORD.head())\n",
        "print(\" Mean:    \", Mean_Ord)\n",
        "print(\" Std Dev: \", Std_Ord)\n",
        "print(Summary_Ord)\n",
        "\n",
        "print(\"\\nArrival Delay for flights arriving in MSP\")\n",
        "print(arrDelay_MSP.head())\n",
        "print(\" Mean:    \", Mean_Msp)\n",
        "print(\" Std Dev: \", Std_Msp)\n",
        "print(Summary_Msp)"
      ],
      "execution_count": 173,
      "outputs": [
        {
          "output_type": "stream",
          "text": [
            "Arrival Delay for flights arriving in ORD\n",
            "0    24.0\n",
            "1     3.0\n",
            "2   -10.0\n",
            "3     0.0\n",
            "4     0.0\n",
            "Name: DELAY_DEP, dtype: float64\n",
            " Mean:     32.54532194207126\n",
            " Std Dev:  83.19967658022408\n",
            "count    23995.000000\n",
            "mean        32.545322\n",
            "std         83.201410\n",
            "min        -20.000000\n",
            "25%         -4.000000\n",
            "50%          0.000000\n",
            "75%         25.000000\n",
            "max       1306.000000\n",
            "Name: DELAY_DEP, dtype: float64\n",
            "\n",
            "Arrival Delay for flights arriving in MSP\n",
            "26254   -9.0\n",
            "26352    0.0\n",
            "26402   -9.0\n",
            "26591   -4.0\n",
            "26592   -2.0\n",
            "Name: DELAY_DEP, dtype: float64\n",
            " Mean:     25.290627107215105\n",
            " Std Dev:  99.65238888623226\n",
            "count    1483.000000\n",
            "mean       25.290627\n",
            "std        99.686004\n",
            "min       -17.000000\n",
            "25%        -6.000000\n",
            "50%        -3.000000\n",
            "75%         5.000000\n",
            "max      1378.000000\n",
            "Name: DELAY_DEP, dtype: float64\n"
          ],
          "name": "stdout"
        }
      ]
    },
    {
      "cell_type": "markdown",
      "metadata": {
        "id": "AaocF5JLwDRA"
      },
      "source": [
        "### Q6 (10 pts) - Flight Delays to CMX \n",
        "\n",
        "For the flights from CMX -> ORD, Houghton to Chicago, and from ORD -> CMX, calculate the mean, standard deviation, and 5-number summary of the arrival delay. Also, plot the distribution of arrival delays for both flights in one plot (the histograms should be overlapping). \n"
      ]
    },
    {
      "cell_type": "code",
      "metadata": {
        "id": "1H9umXWHwL1H",
        "outputId": "746f21fd-3a34-4215-c931-5a3a00c81dbe",
        "colab": {
          "base_uri": "https://localhost:8080/",
          "height": 706
        }
      },
      "source": [
        "# YOUR CODE HERE\n",
        "fl_toCMX = flights[(flights['DEST'] == 'CMX') & (flights['ORIGIN'] == 'ORD')]['DELAY_ARR']\n",
        "fl_fromCMX = flights[(flights['ORIGIN'] == 'CMX') & (flights['DEST'] == 'ORD')]['DELAY_ARR']\n",
        "\n",
        "Mean_toCMX = stats.mean(fl_toCMX[~np.isnan(fl_toCMX)]) \n",
        "Std_toCMX = np.std(fl_toCMX)\n",
        "Summary_toCMX = fl_toCMX.describe()\n",
        "\n",
        "Mean_fromCMX = stats.mean(fl_fromCMX[~np.isnan(fl_fromCMX)]) \n",
        "Std_fromCMX = np.std(fl_fromCMX)\n",
        "Summary_fromCMX = fl_fromCMX.describe()\n",
        "### END SOLUTION\n",
        "\n",
        "print(\"Arrival Delay for flights ORD - CMX\")\n",
        "print(fl_toCMX.head())\n",
        "print(\" Mean:    \", Mean_toCMX)\n",
        "print(\" Std Dev: \", Std_toCMX)\n",
        "print(Summary_toCMX)\n",
        "\n",
        "print(\"\\nArrival Delay for flights CMX - ORD\")\n",
        "print(fl_fromCMX.head())\n",
        "print(\" Mean:    \", Mean_fromCMX)\n",
        "print(\" Std Dev: \", Std_fromCMX)\n",
        "print(Summary_fromCMX)"
      ],
      "execution_count": 174,
      "outputs": [
        {
          "output_type": "stream",
          "text": [
            "Arrival Delay for flights ORD - CMX\n",
            "14       1.0\n",
            "24       0.0\n",
            "162    -11.0\n",
            "172      0.0\n",
            "9187     0.0\n",
            "Name: DELAY_ARR, dtype: float64\n",
            " Mean:     8.208333333333334\n",
            " Std Dev:  40.04890673358706\n",
            "count     48.000000\n",
            "mean       8.208333\n",
            "std       40.472716\n",
            "min      -22.000000\n",
            "25%       -4.250000\n",
            "50%        0.000000\n",
            "75%        0.000000\n",
            "max      223.000000\n",
            "Name: DELAY_ARR, dtype: float64\n",
            "\n",
            "Arrival Delay for flights CMX - ORD\n",
            "26216   -12.0\n",
            "26233   -21.0\n",
            "26363     6.0\n",
            "26380     1.0\n",
            "35657   -22.0\n",
            "Name: DELAY_ARR, dtype: float64\n",
            " Mean:     29.25\n",
            " Std Dev:  77.13583797431646\n",
            "count     48.000000\n",
            "mean      29.250000\n",
            "std       77.952113\n",
            "min      -30.000000\n",
            "25%      -14.250000\n",
            "50%        0.000000\n",
            "75%       48.500000\n",
            "max      326.000000\n",
            "Name: DELAY_ARR, dtype: float64\n"
          ],
          "name": "stdout"
        }
      ]
    },
    {
      "cell_type": "code",
      "metadata": {
        "id": "tLDIZKKFw855",
        "outputId": "38adc8f1-4155-4450-f3e7-243785e2e502",
        "colab": {
          "base_uri": "https://localhost:8080/",
          "height": 369
        }
      },
      "source": [
        "'''plot the distribution of arrival delays overlapping in one plot''' \n",
        "\n",
        "# YOUR CODE HERE\n",
        "plt.title('Distribution of Flight Delays From CMX/ORD')\n",
        "plt.xlabel('Minutes Late')\n",
        "plt.ylabel('Number of Late Arrivals')\n",
        "plt.hist(fl_fromCMX, alpha=0.5, label='Delays From CMX', bins=50)\n",
        "plt.hist(fl_toCMX, alpha=0.5, label='Delays From ORD', bins=50)\n",
        "plt.legend(loc='upper right')\n",
        "plt.show()"
      ],
      "execution_count": 175,
      "outputs": [
        {
          "output_type": "stream",
          "text": [
            "/usr/local/lib/python3.6/dist-packages/numpy/lib/histograms.py:839: RuntimeWarning: invalid value encountered in greater_equal\n",
            "  keep = (tmp_a >= first_edge)\n",
            "/usr/local/lib/python3.6/dist-packages/numpy/lib/histograms.py:840: RuntimeWarning: invalid value encountered in less_equal\n",
            "  keep &= (tmp_a <= last_edge)\n"
          ],
          "name": "stderr"
        },
        {
          "output_type": "display_data",
          "data": {
            "image/png": "[encoded data removed]",
            "text/plain": [
              "<Figure size 432x288 with 1 Axes>"
            ]
          },
          "metadata": {
            "tags": [],
            "needs_background": "light"
          }
        }
      ]
    },
    {
      "cell_type": "markdown",
      "metadata": {
        "id": "tI7F2I38xS_k"
      },
      "source": [
        "## Part 2 - Inferential Statistics \n",
        "\n"
      ]
    },
    {
      "cell_type": "markdown",
      "metadata": {
        "id": "8oJ3gIo0xWOS"
      },
      "source": [
        "### Q7 (10 pts) - Populations \n",
        "\n",
        "Each of the following processes involves sampling from a population. Please identify/define the *population* for each process.  What is the *parameter* that is of interest?\n",
        "\n",
        "1. A company runs a chemical process 20 times; the yield is measured each time.\n",
        "2. A pollster samples 1000 registered voters in Michigan, and asks them which candidate they support for president.\n",
        "3. A clinical trial seeks to determine if a new drug lowers cholesterol.  100 people with high cholesterol levels are recruited try the new drug.\n",
        "4. Eight concrete polymers are produced using a new formulation, and the compressive strength of each is measured.\n",
        "5. A quality engineer needs to estimate the percentage of bolts, manufactured on a certain day, that meets a strength specification.  At 3 pm in the afternoon, he samples the last 100 bolts to be manufactured."
      ]
    },
    {
      "cell_type": "markdown",
      "metadata": {
        "id": "62ZCNGpaxd6n"
      },
      "source": [
        "#### Q7 - Answer \n",
        "\n",
        "**Your answer** \n",
        "\n",
        "1. The number of processes run is the population and the parameter of interest is the yield\n",
        "2. The 1000 registered voters is the population and the parameter of interest is who the voter supports as president\n",
        "3. The 100 people with high colesterol is the population and the parameter of interest is whether the drug lowers cholesterol\n",
        "4. The eight concrete polymers is the population and the paremeter of interest is the compressive strength\n",
        "5. The last 100 bolts is the population and the parameter of interest is the percentage of bolts that meet the strength specification in a day"
      ]
    },
    {
      "cell_type": "markdown",
      "metadata": {
        "id": "CyQ11wdNyHdo"
      },
      "source": [
        "### Q8 (20 pts) - Analysis of Concrete \n",
        "\n",
        "We will make use of the concrete data set, https://archive.ics.uci.edu/ml/datasets/Concrete+Compressive+Strength, which measures as it's input various ingredients and age, and as an output, the compressive strength of the concrete. For your convenience, I have put a csv file of the data in under data/concrete.csv. Otherwise practice how to import an Excel file with `read_excel()`."
      ]
    },
    {
      "cell_type": "code",
      "metadata": {
        "id": "sE_GM4W8yjCU",
        "outputId": "f54ab14e-ec85-458f-9bd8-a5b9037ad072",
        "colab": {
          "base_uri": "https://localhost:8080/",
          "height": 185
        }
      },
      "source": [
        "# Load in data \n",
        "colHeaders = [\"Cement\", \"BFSlag\", \"FlyAsh\", \"Water\", \"SuperP\", \n",
        "             \"CourseAgg.\", \"FineAgg.\", \"Age\", \"Comp.Str.\"]\n",
        "concrete = pd.read_csv(r'data/concrete.csv', names=colHeaders)\n",
        "print(concrete.head())\n",
        "concrete.shape\n"
      ],
      "execution_count": 211,
      "outputs": [
        {
          "output_type": "stream",
          "text": [
            "                                      Cement  ...                                         Comp.Str.\n",
            "0  Cement (component 1)(kg in a m^3 mixture)  ...  Concrete compressive strength(MPa, megapascals) \n",
            "1                                     540.0   ...                                            79.99 \n",
            "2                                     540.0   ...                                            61.89 \n",
            "3                                     332.5   ...                                            40.27 \n",
            "4                                     332.5   ...                                            41.05 \n",
            "\n",
            "[5 rows x 9 columns]\n"
          ],
          "name": "stdout"
        },
        {
          "output_type": "execute_result",
          "data": {
            "text/plain": [
              "(1031, 9)"
            ]
          },
          "metadata": {
            "tags": []
          },
          "execution_count": 211
        }
      ]
    },
    {
      "cell_type": "markdown",
      "metadata": {
        "id": "cS2Gr7okyW0t"
      },
      "source": [
        "##### Q8A\n",
        "\n",
        "Describe the data set using some of the tools that we have learned in Chapter 2 and 3. I'm intentionally leaving this vague as one wants to be as complete, but concise as possible. You may (and should) visualize as appropriate."
      ]
    },
    {
      "cell_type": "code",
      "metadata": {
        "id": "5FN-ROsUxVhS",
        "outputId": "cf7b23fd-3636-4218-9db5-84fc69b4840f",
        "colab": {
          "base_uri": "https://localhost:8080/",
          "height": 851
        }
      },
      "source": [
        "### Add you visualizations and statistics here ...\n",
        "\n",
        "data = concrete['Comp.Str.'].iloc[1:].apply(float)\n",
        "mean_concrete = stats.mean(data) \n",
        "std_concrete = np.std(data)\n",
        "summary_concrete = data.describe()\n",
        "\n",
        "\n",
        "print(\"Description of Concrete Compression Strength Data\")\n",
        "print(data.head())\n",
        "print(\" Mean:    \", mean_concrete)\n",
        "print(\" Std Dev: \", std_concrete)\n",
        "print(summary_concrete)\n",
        "\n",
        "data = data.iloc[1:].sort_values(ascending=True)\n",
        "print(data.head())\n",
        "\n",
        "plt.title('Distribution of Compressive Strength of Concrete')\n",
        "plt.xticks(np.arange(0,1000, 100), rotation='vertical')\n",
        "plt.xlabel('Compressive Strength of Concrete')\n",
        "plt.ylabel('Number of Occurrences')\n",
        "plt.hist(data, bins=20, width=10)\n"
      ],
      "execution_count": 233,
      "outputs": [
        {
          "output_type": "stream",
          "text": [
            "Description of Concrete Compression Strength Data\n",
            "1    79.99\n",
            "2    61.89\n",
            "3    40.27\n",
            "4    41.05\n",
            "5    44.30\n",
            "Name: Comp.Str., dtype: float64\n",
            " Mean:     35.817961165048544\n",
            " Std Dev:  16.697630409134256\n",
            "count    1030.000000\n",
            "mean       35.817961\n",
            "std        16.705742\n",
            "min         2.330000\n",
            "25%        23.710000\n",
            "50%        34.445000\n",
            "75%        46.135000\n",
            "max        82.600000\n",
            "Name: Comp.Str., dtype: float64\n",
            "689    2.33\n",
            "706    3.32\n",
            "653    4.57\n",
            "669    4.78\n",
            "718    4.83\n",
            "Name: Comp.Str., dtype: float64\n"
          ],
          "name": "stdout"
        },
        {
          "output_type": "execute_result",
          "data": {
            "text/plain": [
              "(array([  8.,  37.,  60.,  73.,  54., 102.,  72., 109.,  87., 109.,  68.,\n",
              "         44.,  56.,  44.,  32.,  20.,  19.,  17.,   9.,   9.]),\n",
              " array([ 2.33  ,  6.3435, 10.357 , 14.3705, 18.384 , 22.3975, 26.411 ,\n",
              "        30.4245, 34.438 , 38.4515, 42.465 , 46.4785, 50.492 , 54.5055,\n",
              "        58.519 , 62.5325, 66.546 , 70.5595, 74.573 , 78.5865, 82.6   ]),\n",
              " <a list of 20 Patch objects>)"
            ]
          },
          "metadata": {
            "tags": []
          },
          "execution_count": 233
        },
        {
          "output_type": "display_data",
          "data": {
            "image/png": "[encoded data removed]",
            "text/plain": [
              "<Figure size 432x288 with 1 Axes>"
            ]
          },
          "metadata": {
            "tags": [],
            "needs_background": "light"
          }
        }
      ]
    },
    {
      "cell_type": "code",
      "metadata": {
        "id": "xVYa-sUDylU6"
      },
      "source": [
        ""
      ],
      "execution_count": 163,
      "outputs": []
    },
    {
      "cell_type": "code",
      "metadata": {
        "id": "DE9brQbuyk5L"
      },
      "source": [
        ""
      ],
      "execution_count": 163,
      "outputs": []
    },
    {
      "cell_type": "markdown",
      "metadata": {
        "id": "ODkAfncJyl4z"
      },
      "source": [
        "#### Q8B \n",
        "\n",
        "State, in your own words/understanding, the central limit theorem."
      ]
    },
    {
      "cell_type": "markdown",
      "metadata": {
        "id": "3ZFD1Cyxco7X"
      },
      "source": [
        ""
      ]
    },
    {
      "cell_type": "markdown",
      "metadata": {
        "id": "xrBG7LjJzRCi"
      },
      "source": [
        "##### Q8B - Answer \n",
        "\n",
        "\n",
        "**Your Answer**\n",
        "The central limit theorem states that if you take enough random samples from a skewed distribution, the distribution of the random samples will be approximately normally distributed. "
      ]
    },
    {
      "cell_type": "markdown",
      "metadata": {
        "id": "etFpJd2izXIe"
      },
      "source": [
        "#### Q8C \n",
        "\n",
        "Run a numerical experiment, using the compressive strength variable, that demonstrates the central limit theorem at work."
      ]
    },
    {
      "cell_type": "code",
      "metadata": {
        "id": "W5uQ4TKeQEeA",
        "outputId": "f078b974-27e0-4eb0-cf07-95926eb78170",
        "colab": {
          "base_uri": "https://localhost:8080/",
          "height": 36
        }
      },
      "source": [
        "concrete.shape"
      ],
      "execution_count": 192,
      "outputs": [
        {
          "output_type": "execute_result",
          "data": {
            "text/plain": [
              "(1031, 9)"
            ]
          },
          "metadata": {
            "tags": []
          },
          "execution_count": 192
        }
      ]
    },
    {
      "cell_type": "code",
      "metadata": {
        "id": "tLjRbi3Wypg5",
        "outputId": "70d6c8cb-e3ae-494d-a115-fa19aca35560",
        "colab": {
          "base_uri": "https://localhost:8080/",
          "height": 262
        }
      },
      "source": [
        "# Your solution \n",
        "n = 450\n",
        "comp_str = concrete['Comp.Str.'].iloc[1:].apply(float)\n",
        "obs = np.random.choice(comp_str.index.values, n)\n",
        "sample_concrete = comp_str.loc[obs]\n",
        "plt.xticks(np.arange(0,1000, 100), rotation='vertical')\n",
        "plt.hist(sample_concrete, alpha=0.5, label = 'sample')\n",
        "plt.hist(comp_str, alpha=0.5, label = 'actual')\n",
        "plt.legend(loc='upper right')\n",
        "plt.show()"
      ],
      "execution_count": 250,
      "outputs": [
        {
          "output_type": "display_data",
          "data": {
            "image/png": "[encoded data removed]",
            "text/plain": [
              "<Figure size 432x288 with 1 Axes>"
            ]
          },
          "metadata": {
            "tags": [],
            "needs_background": "light"
          }
        }
      ]
    }
  ]
}